{
  "cells": [
    {
      "cell_type": "code",
      "execution_count": 5,
      "metadata": {
        "id": "DNhpNp-oVSqM"
      },
      "outputs": [],
      "source": [
        "!mkdir -p ~/.kaggle\n",
        "!cp kaggle.json ~/.kaggle/"
      ],
      "id": "DNhpNp-oVSqM"
    },
    {
      "cell_type": "code",
      "execution_count": 6,
      "metadata": {
        "colab": {
          "base_uri": "https://localhost:8080/"
        },
        "id": "yee2ryYoVdn1",
        "outputId": "46831bce-75b6-4e02-9923-10e3cc1b0c77"
      },
      "outputs": [
        {
          "output_type": "stream",
          "name": "stdout",
          "text": [
            "Warning: Your Kaggle API key is readable by other users on this system! To fix this, you can run 'chmod 600 /root/.kaggle/kaggle.json'\n",
            "Downloading dermnet.zip to /content\n",
            "100% 1.72G/1.72G [00:18<00:00, 141MB/s]\n",
            "100% 1.72G/1.72G [00:18<00:00, 102MB/s]\n"
          ]
        }
      ],
      "source": [
        "!kaggle datasets download -d shubhamgoel27/dermnet"
      ],
      "id": "yee2ryYoVdn1"
    },
    {
      "cell_type": "code",
      "execution_count": null,
      "metadata": {
        "id": "c9OCPxq5VYfn"
      },
      "outputs": [],
      "source": [
        "import zipfile\n",
        "zip_ref = zipfile.ZipFile('/content/dermnet.zip', 'r')\n",
        "zip_ref.extractall('/content')\n",
        "zip_ref.close()"
      ],
      "id": "c9OCPxq5VYfn"
    },
    {
      "cell_type": "code",
      "execution_count": null,
      "metadata": {
        "id": "74ebcf71"
      },
      "outputs": [],
      "source": [
        "import os\n",
        "for dirname, _, filenames in os.walk('/kaggle/input'):\n",
        "    for filename in filenames:\n",
        "        os.path.join(dirname, filename)"
      ],
      "id": "74ebcf71"
    },
    {
      "cell_type": "code",
      "execution_count": null,
      "metadata": {
        "id": "3b171532"
      },
      "outputs": [],
      "source": [
        "import os\n",
        "import matplotlib.pyplot as plt\n",
        "import cv2\n",
        "from tensorflow.keras.models import Model, Sequential\n",
        "from tensorflow.keras.layers import Input, Convolution2D, ZeroPadding2D,MaxPooling2D, Flatten, Dense, Dropout, Activation\n",
        "from PIL import Image\n",
        "import numpy as np\n",
        "from tensorflow.keras.preprocessing.image import load_img, save_img, img_to_array\n",
        "from tensorflow.keras.applications.imagenet_utils import preprocess_input\n",
        "from tensorflow.keras.preprocessing import image\n",
        "import pandas as pd\n",
        "import tensorflow as tf\n",
        "import keras\n",
        "import pickle"
      ],
      "id": "3b171532"
    },
    {
      "cell_type": "code",
      "execution_count": null,
      "metadata": {
        "id": "867b6e14"
      },
      "outputs": [],
      "source": [
        "test_list=os.listdir('/content/test')\n",
        "#len test_list\n",
        "train_list=os.listdir('/content/train')\n",
        "#len(train_list) 23\n",
        "\n",
        "#SORTING THEM FOR REFERENCE\n",
        "train_list.sort()\n",
        "test_list.sort()\n",
        "#viewing items\n",
        "#test_list[0:5]\n",
        "\n",
        "print(train_list)"
      ],
      "id": "867b6e14"
    },
    {
      "cell_type": "code",
      "execution_count": null,
      "metadata": {
        "id": "0e48a503"
      },
      "outputs": [],
      "source": [
        "train_list_mod=['Acne and Rosacea Photos', 'Actinic Keratosis Basal Cell Carcinoma and other Malignant Lesions', 'Atopic Dermatitis Photos', 'Eczema Photos', 'Nail Fungus and other Nail Disease', 'Psoriasis pictures Lichen Planus and related diseases']"
      ],
      "id": "0e48a503"
    },
    {
      "cell_type": "code",
      "execution_count": null,
      "metadata": {
        "id": "2590908e"
      },
      "outputs": [],
      "source": [
        "len(train_list_mod)"
      ],
      "id": "2590908e"
    },
    {
      "cell_type": "code",
      "execution_count": null,
      "metadata": {
        "id": "fdaadf64"
      },
      "outputs": [],
      "source": [
        "def data_dictionary():\n",
        "    path_train=\"/content/train/\"\n",
        "    path_test=\"/content/test/\"\n",
        "    list_train=train_list_mod#os.listdir(path_train)\n",
        "    train_dictionary={\"image_path\":[],\"target\":[]}\n",
        "    test_dictionary={\"image_path\":[],\"target\":[]}\n",
        "    k=0\n",
        "    for i in list_train:\n",
        "        path_disease_train=path_train+i\n",
        "        path_disease_test=path_test+i\n",
        "        image_list_train=os.listdir(path_disease_train)\n",
        "        image_list_test=os.listdir(path_disease_test)\n",
        "        for j in image_list_train:\n",
        "            img_path_train=path_disease_train+\"/\"+j\n",
        "            train_dictionary[\"image_path\"].append(img_path_train)\n",
        "            train_dictionary['target'].append(k)\n",
        "        for m in image_list_test :\n",
        "            img_path_test=path_disease_test+\"/\"+m\n",
        "            test_dictionary[\"image_path\"].append(img_path_test)\n",
        "            test_dictionary['target'].append(k)\n",
        "        k+=1\n",
        "    test_df=pd.DataFrame(test_dictionary)\n",
        "    train_df=pd.DataFrame(train_dictionary)\n",
        "\n",
        "    return  train_df,test_df"
      ],
      "id": "fdaadf64"
    },
    {
      "cell_type": "code",
      "execution_count": null,
      "metadata": {
        "id": "088d0abb"
      },
      "outputs": [],
      "source": [
        "img=Image.open(\"/content/07Rhinophyma1.jpg\")\n",
        "plt.imshow(img)"
      ],
      "id": "088d0abb"
    },
    {
      "cell_type": "code",
      "execution_count": null,
      "metadata": {
        "id": "1acd548c"
      },
      "outputs": [],
      "source": [
        "def load_data(input_size=(100,100)):\n",
        "    images=[]\n",
        "    images2=[]\n",
        "    train_df,test_df=data_dictionary()\n",
        "    for i in train_df['image_path']:\n",
        "        img=cv2.imread(i)\n",
        "        img=cv2.resize(img,input_size)\n",
        "        images.append(img)\n",
        "    y_train=np.asarray(train_df['target'])\n",
        "    x_train=np.asarray(images)\n",
        "    for i in test_df['image_path']:\n",
        "        img=cv2.imread(i)\n",
        "        img=cv2.resize(img,input_size)\n",
        "        images2.append(img)\n",
        "    y_test=np.asarray(test_df['target'])\n",
        "    x_test=np.asarray(images2)\n",
        "    return x_train,x_test,y_train,y_test\n",
        "\n"
      ],
      "id": "1acd548c"
    },
    {
      "cell_type": "code",
      "execution_count": null,
      "metadata": {
        "id": "b2a439f8"
      },
      "outputs": [],
      "source": [
        "x_train,x_test,y_train,y_test=load_data(input_size=(100,100))"
      ],
      "id": "b2a439f8"
    },
    {
      "cell_type": "code",
      "execution_count": null,
      "metadata": {
        "id": "d847ad6e"
      },
      "outputs": [],
      "source": [
        "from tensorflow.keras.applications import  VGG19\n",
        "from tensorflow.keras.models import Model\n",
        "from keras.applications.vgg19 import preprocess_input\n"
      ],
      "id": "d847ad6e"
    },
    {
      "cell_type": "code",
      "execution_count": null,
      "metadata": {
        "id": "7acd0604"
      },
      "outputs": [],
      "source": [
        "vgg16 = VGG19(include_top=False,weights='imagenet')"
      ],
      "id": "7acd0604"
    },
    {
      "cell_type": "code",
      "execution_count": null,
      "metadata": {
        "id": "a7bec239"
      },
      "outputs": [],
      "source": [
        "vgg16.summary()\n"
      ],
      "id": "a7bec239"
    },
    {
      "cell_type": "code",
      "execution_count": null,
      "metadata": {
        "id": "c9c732e7"
      },
      "outputs": [],
      "source": [
        "import joblib"
      ],
      "id": "c9c732e7"
    },
    {
      "cell_type": "code",
      "execution_count": null,
      "metadata": {
        "id": "8ddc5b2c"
      },
      "outputs": [],
      "source": [
        "filename=\"vgg16.sav\"\n",
        "joblib.dump(vgg16,open(filename,'wb'))"
      ],
      "id": "8ddc5b2c"
    },
    {
      "cell_type": "code",
      "execution_count": null,
      "metadata": {
        "id": "f3368986"
      },
      "outputs": [],
      "source": [
        "vgg19=joblib.load(\"vgg16.sav\")"
      ],
      "id": "f3368986"
    },
    {
      "cell_type": "code",
      "execution_count": null,
      "metadata": {
        "id": "7873cc99"
      },
      "outputs": [],
      "source": [
        "train_img=preprocess_input(x_train)\n",
        "test_img=preprocess_input(x_test)"
      ],
      "id": "7873cc99"
    },
    {
      "cell_type": "code",
      "execution_count": null,
      "metadata": {
        "id": "dd1bb641"
      },
      "outputs": [],
      "source": [
        "features_train=vgg16.predict(train_img)"
      ],
      "id": "dd1bb641"
    },
    {
      "cell_type": "code",
      "execution_count": null,
      "metadata": {
        "id": "ec2d7fd1"
      },
      "outputs": [],
      "source": [
        "features_test=vgg16.predict(test_img)"
      ],
      "id": "ec2d7fd1"
    },
    {
      "cell_type": "code",
      "execution_count": null,
      "metadata": {
        "id": "b91f5e19"
      },
      "outputs": [],
      "source": [
        "features_train.shape"
      ],
      "id": "b91f5e19"
    },
    {
      "cell_type": "code",
      "execution_count": null,
      "metadata": {
        "id": "4fb08a7b"
      },
      "outputs": [],
      "source": [
        "features_test.shape"
      ],
      "id": "4fb08a7b"
    },
    {
      "cell_type": "code",
      "execution_count": null,
      "metadata": {
        "id": "783db7c2"
      },
      "outputs": [],
      "source": [
        "num_train=x_train.shape[0]\n",
        "num_test=x_test.shape[0]\n"
      ],
      "id": "783db7c2"
    },
    {
      "cell_type": "code",
      "execution_count": null,
      "metadata": {
        "id": "cd4df9d2"
      },
      "outputs": [],
      "source": [],
      "id": "cd4df9d2"
    },
    {
      "cell_type": "code",
      "execution_count": null,
      "metadata": {
        "id": "c787e70f"
      },
      "outputs": [],
      "source": [
        "x_train=features_train.reshape(num_train,4608)\n",
        "x_test=features_test.reshape(num_test,4608)"
      ],
      "id": "c787e70f"
    },
    {
      "cell_type": "code",
      "execution_count": null,
      "metadata": {
        "id": "99e0c107"
      },
      "outputs": [],
      "source": [
        "from tensorflow.keras.models import Sequential\n",
        "from tensorflow.keras.layers import Conv2D,MaxPooling2D,Flatten, Dense"
      ],
      "id": "99e0c107"
    },
    {
      "cell_type": "code",
      "execution_count": null,
      "metadata": {
        "id": "6065e7dd"
      },
      "outputs": [],
      "source": [
        "model=Sequential([ Dense(1024,activation='relu'),\n",
        "                   Dense(512,activation='relu'),\n",
        "                  Dense(256,activation='relu'),\n",
        "                  Dense(128,activation='relu'),\n",
        "                  Dense(6,activation='sigmoid'),\n",
        "\n",
        "])"
      ],
      "id": "6065e7dd"
    },
    {
      "cell_type": "code",
      "execution_count": null,
      "metadata": {
        "id": "8173596c"
      },
      "outputs": [],
      "source": [
        "model.compile(optimizer='adam',loss=tf.keras.losses.SparseCategoricalCrossentropy(),metrics=['accuracy'])"
      ],
      "id": "8173596c"
    },
    {
      "cell_type": "code",
      "execution_count": null,
      "metadata": {
        "id": "d691bc92"
      },
      "outputs": [],
      "source": [
        "model.fit(x_train,y_train,batch_size=32,epochs=50,validation_data=(x_test,y_test))"
      ],
      "id": "d691bc92"
    },
    {
      "cell_type": "code",
      "execution_count": null,
      "metadata": {
        "id": "bb7471b4"
      },
      "outputs": [],
      "source": [
        "plt.plot(model.history.history['accuracy'],label=\"train_accuracy\")\n",
        "plt.plot(model.history.history['val_accuracy'],label=\"validation_accuracy\")\n",
        "plt.legend()\n",
        "plt.show()\n"
      ],
      "id": "bb7471b4"
    },
    {
      "cell_type": "code",
      "execution_count": null,
      "metadata": {
        "id": "4QEv8gHvxPrt"
      },
      "outputs": [],
      "source": [
        "# Evaluate the model\n",
        "loss, accuracy = model.evaluate(x_test, y_test)\n",
        "print('Accuracy of CNN model: {:.2f}%'.format(accuracy * 100))\n",
        "\n",
        "# Store accuracy in a variable\n",
        "cnn_accuracy = accuracy"
      ],
      "id": "4QEv8gHvxPrt"
    },
    {
      "cell_type": "code",
      "execution_count": null,
      "metadata": {
        "id": "dc844a40"
      },
      "outputs": [],
      "source": [
        "\n",
        "def load_img(img_path):\n",
        "    images=[]\n",
        "    img=cv2.imread(img_path)\n",
        "    img=cv2.resize(img,(100,100))\n",
        "    images.append(img)\n",
        "    x_test=np.asarray(images)\n",
        "    test_img=preprocess_input(x_test)\n",
        "    features_test=vgg16.predict(test_img)\n",
        "    num_test=x_test.shape[0]\n",
        "    f_img=features_test.reshape(num_test,4608)\n",
        "\n",
        "    return f_img\n"
      ],
      "id": "dc844a40"
    },
    {
      "cell_type": "code",
      "execution_count": null,
      "metadata": {
        "id": "4d38d42c"
      },
      "outputs": [],
      "source": [
        "img=load_img(\"/content/test/Actinic Keratosis Basal Cell Carcinoma and other Malignant Lesions/actinic-cheilitis-sq-cell-lip-20.jpg\")"
      ],
      "id": "4d38d42c"
    },
    {
      "cell_type": "code",
      "execution_count": null,
      "metadata": {
        "id": "10374e8a"
      },
      "outputs": [],
      "source": [
        "np.argmax(model.predict(img))"
      ],
      "id": "10374e8a"
    },
    {
      "cell_type": "code",
      "execution_count": null,
      "metadata": {
        "id": "33b66847"
      },
      "outputs": [],
      "source": [
        "import pickle"
      ],
      "id": "33b66847"
    },
    {
      "cell_type": "code",
      "execution_count": null,
      "metadata": {
        "id": "8e6ed385"
      },
      "outputs": [],
      "source": [
        "!mkdir -p saved_model\n",
        "model.save('saved_model/skin_model')"
      ],
      "id": "8e6ed385"
    },
    {
      "cell_type": "code",
      "execution_count": null,
      "metadata": {
        "id": "39385f4a"
      },
      "outputs": [],
      "source": [
        "#filename=\"skin_model.pkl\"\n",
        "#joblib.dump(model,open(filename,'wb'))"
      ],
      "id": "39385f4a"
    },
    {
      "cell_type": "code",
      "execution_count": null,
      "metadata": {
        "id": "cd53b6c8"
      },
      "outputs": [],
      "source": [
        "\n"
      ],
      "id": "cd53b6c8"
    },
    {
      "cell_type": "code",
      "execution_count": null,
      "metadata": {
        "id": "74fb3136"
      },
      "outputs": [],
      "source": [
        "new_model = tf.keras.models.load_model('saved_model/skin_model')\n",
        "\n",
        "# Check its architecture\n",
        "new_model.summary()"
      ],
      "id": "74fb3136"
    },
    {
      "cell_type": "code",
      "execution_count": null,
      "metadata": {
        "id": "6e217116"
      },
      "outputs": [],
      "source": [
        "np.argmax(new_model.predict(img))"
      ],
      "id": "6e217116"
    },
    {
      "cell_type": "code",
      "execution_count": null,
      "metadata": {
        "id": "bd240dcb"
      },
      "outputs": [],
      "source": [],
      "id": "bd240dcb"
    },
    {
      "cell_type": "code",
      "execution_count": null,
      "metadata": {
        "id": "v6SiMfDvqnah"
      },
      "outputs": [],
      "source": [
        "from sklearn.naive_bayes import GaussianNB\n",
        "from sklearn.metrics import accuracy_score\n",
        "from sklearn.preprocessing import LabelEncoder"
      ],
      "id": "v6SiMfDvqnah"
    },
    {
      "cell_type": "code",
      "execution_count": null,
      "metadata": {
        "id": "F6OtzwrAloBF"
      },
      "outputs": [],
      "source": [
        "y = np.concatenate((y_train, y_test), axis=0)"
      ],
      "id": "F6OtzwrAloBF"
    },
    {
      "cell_type": "code",
      "execution_count": null,
      "metadata": {
        "id": "mIbdjy5YkTqT"
      },
      "outputs": [],
      "source": [
        "nb = GaussianNB()\n",
        "\n",
        "train_accs = []\n",
        "test_accs = []\n",
        "\n",
        "for i in range(10):\n",
        "    nb.partial_fit(x_train, y_train, np.unique(y))\n",
        "    train_accs.append(accuracy_score(y_train, nb.predict(x_train)))\n",
        "    test_accs.append(accuracy_score(y_test, nb.predict(x_test)))\n",
        "\n",
        "# Print the accuracy values\n",
        "print(\"Training accuracies:\", train_accs)\n",
        "print(\"Testing accuracies:\", test_accs)\n",
        "\n",
        "# Plot the accuracy values\n",
        "plt.plot(range(10), train_accs, label=\"Training\")\n",
        "plt.plot(range(10), test_accs, label=\"Testing\")\n",
        "plt.xlabel(\"Epochs\")\n",
        "plt.ylabel(\"Accuracy\")\n",
        "plt.legend()\n",
        "plt.show()\n",
        "\n",
        "\n",
        "\n",
        "\n",
        "\n"
      ],
      "id": "mIbdjy5YkTqT"
    },
    {
      "cell_type": "code",
      "execution_count": null,
      "metadata": {
        "id": "1XY5Xc-bmOFl"
      },
      "outputs": [],
      "source": [],
      "id": "1XY5Xc-bmOFl"
    },
    {
      "cell_type": "code",
      "execution_count": null,
      "metadata": {
        "id": "atRnpnVymzji"
      },
      "outputs": [],
      "source": [
        "from sklearn.linear_model import LogisticRegression"
      ],
      "id": "atRnpnVymzji"
    },
    {
      "cell_type": "code",
      "execution_count": null,
      "metadata": {
        "id": "Cxs0fKWGmrEP"
      },
      "outputs": [],
      "source": [
        "lr = LogisticRegression()\n",
        "lr.fit(x_train, y_train)\n",
        "\n",
        "# Predict on training and testing sets\n",
        "train_preds = lr.predict(x_train)\n",
        "test_preds = lr.predict(x_test)\n",
        "\n",
        "# Calculate accuracy on training and testing sets\n",
        "train_acc = accuracy_score(y_train, train_preds)\n",
        "test_acc = accuracy_score(y_test, test_preds)\n",
        "\n",
        "# Print the accuracy values\n",
        "print(\"Training accuracy:\", train_acc)\n",
        "print(\"Testing accuracy:\", test_acc)\n",
        "\n",
        "fig, ax = plt.subplots()\n",
        "ax.bar(['Training Accuracy', 'Testing Accuracy'], [train_acc, test_acc])\n",
        "ax.set_ylim([0, 1])\n",
        "ax.set_ylabel('Accuracy')\n",
        "ax.set_title('Logistic Regression Model Accuracy')\n",
        "plt.show()"
      ],
      "id": "Cxs0fKWGmrEP"
    },
    {
      "cell_type": "code",
      "execution_count": null,
      "metadata": {
        "id": "G5INH6B6ojg_"
      },
      "outputs": [],
      "source": [],
      "id": "G5INH6B6ojg_"
    },
    {
      "cell_type": "code",
      "execution_count": null,
      "metadata": {
        "id": "UWk6DXnEoxA_"
      },
      "outputs": [],
      "source": [
        "from sklearn.svm import SVC\n",
        "from sklearn.metrics import accuracy_score\n",
        "from sklearn.preprocessing import LabelEncoder"
      ],
      "id": "UWk6DXnEoxA_"
    },
    {
      "cell_type": "code",
      "execution_count": null,
      "metadata": {
        "id": "AzD3opG_okCx"
      },
      "outputs": [],
      "source": [
        "svm = SVC(kernel='rbf')\n",
        "svm.fit(x_train, y_train)\n",
        "\n",
        "# Predict on training and testing sets\n",
        "train_preds = svm.predict(x_train)\n",
        "test_preds = svm.predict(x_test)\n",
        "\n",
        "# Calculate accuracy on training and testing sets\n",
        "train_acc = accuracy_score(y_train, train_preds)\n",
        "test_acc = accuracy_score(y_test, test_preds)\n",
        "\n",
        "# Print the accuracy values\n",
        "print(\"Training accuracy:\", train_acc)\n",
        "print(\"Testing accuracy:\", test_acc)\n",
        "\n",
        "acc_values = [train_acc, test_acc]\n",
        "acc_names = ['Training', 'Testing']\n",
        "plt.bar(acc_names, acc_values)\n",
        "plt.title('Accuracy of svm')\n",
        "plt.xlabel('Data Split')\n",
        "plt.ylabel('Accuracy')\n",
        "plt.ylim((0.0, 1.0))\n",
        "plt.show()"
      ],
      "id": "AzD3opG_okCx"
    },
    {
      "cell_type": "code",
      "execution_count": null,
      "metadata": {
        "id": "yQ_8bSLlrdEP"
      },
      "outputs": [],
      "source": [],
      "id": "yQ_8bSLlrdEP"
    },
    {
      "cell_type": "code",
      "execution_count": null,
      "metadata": {
        "id": "4c1t5i_krdhT"
      },
      "outputs": [],
      "source": [
        "from sklearn.ensemble import RandomForestClassifier"
      ],
      "id": "4c1t5i_krdhT"
    },
    {
      "cell_type": "code",
      "execution_count": null,
      "metadata": {
        "id": "lBSuyqzorjAq"
      },
      "outputs": [],
      "source": [
        "rf = RandomForestClassifier(n_estimators=100, random_state=42)\n",
        "rf.fit(x_train, y_train)\n",
        "\n",
        "# Predict on training and testing sets\n",
        "train_preds = rf.predict(x_train)\n",
        "test_preds = rf.predict(x_test)\n",
        "\n",
        "# Calculate accuracy on training and testing sets\n",
        "train_acc = accuracy_score(y_train, train_preds)\n",
        "test_acc = accuracy_score(y_test, test_preds)\n",
        "\n",
        "# Print the accuracy values\n",
        "print(\"Training accuracy:\", train_acc)\n",
        "print(\"Testing accuracy:\", test_acc)\n",
        "\n",
        "acc_values = [train_acc, test_acc]\n",
        "acc_names = ['Training', 'Testing']\n",
        "plt.bar(acc_names, acc_values)\n",
        "plt.title('Accuracy of Random Forest Model')\n",
        "plt.xlabel('Data Split')\n",
        "plt.ylabel('Accuracy')\n",
        "plt.ylim((0.0, 1.0))\n",
        "plt.show()"
      ],
      "id": "lBSuyqzorjAq"
    },
    {
      "cell_type": "code",
      "execution_count": null,
      "metadata": {
        "id": "2KdXcYF7u-2e"
      },
      "outputs": [],
      "source": [],
      "id": "2KdXcYF7u-2e"
    },
    {
      "cell_type": "markdown",
      "metadata": {
        "id": "hZw387Bdu6OZ"
      },
      "source": [
        "confusion matrix for all above\n"
      ],
      "id": "hZw387Bdu6OZ"
    },
    {
      "cell_type": "code",
      "execution_count": null,
      "metadata": {
        "id": "pziMbA58u5jL"
      },
      "outputs": [],
      "source": [
        "from sklearn.metrics import confusion_matrix, accuracy_score, precision_score, recall_score, f1_score\n",
        "from sklearn.metrics import confusion_matrix\n",
        "import seaborn as sns\n",
        "\n",
        "# Train Logistic Regression model\n",
        "lr = LogisticRegression()\n",
        "lr.fit(x_train, y_train)\n",
        "\n",
        "# Predict on test set\n",
        "y_pred_lr = lr.predict(x_test)\n",
        "\n",
        "# Create confusion matrix\n",
        "cm_lr = confusion_matrix(y_test, y_pred_lr)\n",
        "accuracy = accuracy_score(y_test, y_pred_lr)\n",
        "err_rate = 1 - accuracy\n",
        "\n",
        "print(\"Accuracy:\", accuracy)\n",
        "print('Error rate:', err_rate)\n",
        "# Plot confusion matrix using seaborn heatmap\n",
        "sns.heatmap(cm_lr, annot=True, cmap='Blues')\n",
        "plt.title('Confusion Matrix for Logistic Regression')\n",
        "plt.xlabel('Predicted Labels')\n",
        "plt.ylabel('True Labels')\n",
        "plt.show()\n"
      ],
      "id": "pziMbA58u5jL"
    },
    {
      "cell_type": "code",
      "execution_count": null,
      "metadata": {
        "id": "ZB5SUL1CvFCm"
      },
      "outputs": [],
      "source": [
        "# Train Random Forest model\n",
        "rf = RandomForestClassifier(n_estimators=100, random_state=42)\n",
        "rf.fit(x_train, y_train)\n",
        "\n",
        "# Predict on test set\n",
        "y_pred_rf = rf.predict(x_test)\n",
        "\n",
        "# Create confusion matrix\n",
        "cm_rf = confusion_matrix(y_test, y_pred_rf)\n",
        "\n",
        "accuracy = accuracy_score(y_test, y_pred_rf)\n",
        "err_rate = 1 - accuracy\n",
        "\n",
        "print(\"Accuracy:\", accuracy)\n",
        "print('Error rate:', err_rate)\n",
        "\n",
        "# Plot confusion matrix using seaborn heatmap\n",
        "sns.heatmap(cm_rf, annot=True, cmap='Blues')\n",
        "plt.title('Confusion Matrix for Random Forest')\n",
        "plt.xlabel('Predicted Labels')\n",
        "plt.ylabel('True Labels')\n",
        "plt.show()\n"
      ],
      "id": "ZB5SUL1CvFCm"
    },
    {
      "cell_type": "code",
      "execution_count": null,
      "metadata": {
        "id": "pSd8JpfLvFzT"
      },
      "outputs": [],
      "source": [
        "# Train Kernel SVM model\n",
        "svm = SVC(kernel='rbf', random_state=42)\n",
        "svm.fit(x_train, y_train)\n",
        "\n",
        "# Predict on test set\n",
        "y_pred_svm = svm.predict(x_test)\n",
        "\n",
        "# Create confusion matrix\n",
        "cm_svm = confusion_matrix(y_test, y_pred_svm)\n",
        "accuracy = accuracy_score(y_test, y_pred_svm)\n",
        "err_rate = 1 - accuracy\n",
        "\n",
        "print(\"Accuracy:\", accuracy)\n",
        "print('Error rate:', err_rate)\n",
        "\n",
        "# Plot confusion matrix using seaborn heatmap5\n",
        "sns.heatmap(cm_svm, annot=True, cmap='Blues')\n",
        "plt.title('Confusion Matrix for Kernel SVM')\n",
        "plt.xlabel('Predicted Labels')\n",
        "plt.ylabel('True Labels')\n",
        "plt.show()\n"
      ],
      "id": "pSd8JpfLvFzT"
    },
    {
      "cell_type": "code",
      "execution_count": null,
      "metadata": {
        "id": "uFrlii2XvIXl"
      },
      "outputs": [],
      "source": [
        "# Train Naive Bayes model\n",
        "nb = GaussianNB()\n",
        "nb.fit(x_train, y_train)\n",
        "\n",
        "# Predict on test set\n",
        "y_pred_nb = nb.predict(x_test)\n",
        "\n",
        "# Create confusion matrix\n",
        "cm_nb = confusion_matrix(y_test, y_pred_nb)\n",
        "accuracy = accuracy_score(y_test, y_pred_nb)\n",
        "err_rate = 1 - accuracy\n",
        "\n",
        "print(\"Accuracy:\", accuracy)\n",
        "print('Error rate:', err_rate)\n",
        "\n",
        "# Plot confusion matrix using seaborn heatmap\n",
        "sns.heatmap(cm_nb, annot=True, cmap='Blues')\n",
        "plt.title('Confusion Matrix for Naive Bayes')\n",
        "plt.xlabel('Predicted Labels')\n",
        "plt.ylabel('True Labels')\n",
        "plt.show()\n"
      ],
      "id": "uFrlii2XvIXl"
    },
    {
      "cell_type": "code",
      "execution_count": null,
      "metadata": {
        "id": "pODKDH7Xv6qx"
      },
      "outputs": [],
      "source": [
        "import matplotlib.pyplot as plt\n",
        "from sklearn.metrics import accuracy_score\n",
        "\n",
        "# Train and predict using all models\n",
        "lr = LogisticRegression()\n",
        "lr.fit(x_train, y_train)\n",
        "y_pred_lr = lr.predict(x_test)\n",
        "acc_lr = accuracy_score(y_test, y_pred_lr)\n",
        "\n",
        "svm = SVC(kernel='rbf', random_state=42)\n",
        "svm.fit(x_train, y_train)\n",
        "y_pred_svm = svm.predict(x_test)\n",
        "acc_svm = accuracy_score(y_test, y_pred_svm)\n",
        "\n",
        "rf = RandomForestClassifier(n_estimators=100, random_state=42)\n",
        "rf.fit(x_train, y_train)\n",
        "y_pred_rf = rf.predict(x_test)\n",
        "acc_rf = accuracy_score(y_test, y_pred_rf)\n",
        "\n",
        "nb = GaussianNB()\n",
        "nb.fit(x_train, y_train)\n",
        "y_pred_nb = nb.predict(x_test)\n",
        "acc_nb = accuracy_score(y_test, y_pred_nb)\n",
        "\n",
        "# Create and plot accuracy bar chart\n",
        "accuracy_scores = [acc_lr, acc_svm, acc_rf, acc_nb, cnn_accuracy]\n",
        "model_names = ['Logistic Regression', 'Kernel SVM', 'Random Forest', 'Naive Bayes', 'CNN']\n",
        "plt.plot(model_names, accuracy_scores, marker='o',markerfacecolor='black', color=\"black\")\n",
        "plt.title('Accuracy of Classification Algorithms')\n",
        "plt.xlabel('Model')\n",
        "plt.ylabel('Accuracy')\n",
        "plt.ylim([0, 1])\n",
        "plt.show()"
      ],
      "id": "pODKDH7Xv6qx"
    },
    {
      "cell_type": "code",
      "execution_count": null,
      "metadata": {
        "id": "8fyrwaWVzz1p"
      },
      "outputs": [],
      "source": [],
      "id": "8fyrwaWVzz1p"
    }
  ],
  "metadata": {
    "colab": {
      "provenance": [],
      "gpuType": "T4"
    },
    "kernelspec": {
      "display_name": "Python 3",
      "name": "python3"
    },
    "language_info": {
      "codemirror_mode": {
        "name": "ipython",
        "version": 3
      },
      "file_extension": ".py",
      "mimetype": "text/x-python",
      "name": "python",
      "nbconvert_exporter": "python",
      "pygments_lexer": "ipython3",
      "version": "3.7.12"
    },
    "papermill": {
      "default_parameters": {},
      "duration": 217.492707,
      "end_time": "2022-09-28T21:45:56.831973",
      "environment_variables": {},
      "exception": null,
      "input_path": "__notebook__.ipynb",
      "output_path": "__notebook__.ipynb",
      "parameters": {},
      "start_time": "2022-09-28T21:42:19.339266",
      "version": "2.3.4"
    },
    "accelerator": "TPU"
  },
  "nbformat": 4,
  "nbformat_minor": 5
}